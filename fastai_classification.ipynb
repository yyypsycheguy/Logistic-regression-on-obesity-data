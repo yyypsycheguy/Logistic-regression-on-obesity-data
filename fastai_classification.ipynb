{
  "nbformat": 4,
  "nbformat_minor": 0,
  "metadata": {
    "colab": {
      "provenance": [],
      "mount_file_id": "1xFojPduShH3nC3aZpDBBLnaBjaMkp6Nc",
      "authorship_tag": "ABX9TyMPoJUj4zArIc0fpzs+78D3",
      "include_colab_link": true
    },
    "kernelspec": {
      "name": "python3",
      "display_name": "Python 3"
    },
    "language_info": {
      "name": "python"
    }
  },
  "cells": [
    {
      "cell_type": "markdown",
      "metadata": {
        "id": "view-in-github",
        "colab_type": "text"
      },
      "source": [
        "<a href=\"https://colab.research.google.com/github/yyypsycheguy/Logistic-regression-on-obesity-data/blob/Yiwen/fastai_classification.ipynb\" target=\"_parent\"><img src=\"https://colab.research.google.com/assets/colab-badge.svg\" alt=\"Open In Colab\"/></a>"
      ]
    },
    {
      "cell_type": "markdown",
      "source": [
        "# Classification for dog breeds\n"
      ],
      "metadata": {
        "id": "id_9Z-h6OgyS"
      }
    },
    {
      "cell_type": "code",
      "execution_count": 7,
      "metadata": {
        "colab": {
          "base_uri": "https://localhost:8080/"
        },
        "id": "hGn1Vo12Ob1z",
        "outputId": "062324d1-af30-4a4c-f324-ce738eb76ced"
      },
      "outputs": [
        {
          "output_type": "stream",
          "name": "stdout",
          "text": [
            "git version 2.34.1\n",
            "\u001b[33mhint: Using 'master' as the name for the initial branch. This default branch name\u001b[m\n",
            "\u001b[33mhint: is subject to change. To configure the initial branch name to use in all\u001b[m\n",
            "\u001b[33mhint: of your new repositories, which will suppress this warning, call:\u001b[m\n",
            "\u001b[33mhint: \u001b[m\n",
            "\u001b[33mhint: \tgit config --global init.defaultBranch <name>\u001b[m\n",
            "\u001b[33mhint: \u001b[m\n",
            "\u001b[33mhint: Names commonly chosen instead of 'master' are 'main', 'trunk' and\u001b[m\n",
            "\u001b[33mhint: 'development'. The just-created branch can be renamed via this command:\u001b[m\n",
            "\u001b[33mhint: \u001b[m\n",
            "\u001b[33mhint: \tgit branch -m <name>\u001b[m\n",
            "Initialized empty Git repository in /content/.git/\n"
          ]
        }
      ],
      "source": [
        "! git --version\n",
        "! git init"
      ]
    },
    {
      "cell_type": "markdown",
      "source": [
        "## Prepare data"
      ],
      "metadata": {
        "id": "Ki-f9Fo0oHI4"
      }
    },
    {
      "cell_type": "code",
      "source": [
        "from google.colab import drive\n",
        "drive.mount(\"content/drive/MyDrive/classification_dataset\")\n",
        "! cd content/drive/MyDrive/classification_dataset\n"
      ],
      "metadata": {
        "id": "bEppRM7Va_18"
      },
      "execution_count": null,
      "outputs": []
    },
    {
      "cell_type": "code",
      "source": [
        "import os\n",
        "import glob\n",
        "from fastai import *\n",
        "from fastai.vision.widgets import *\n",
        "\n",
        "path = 'content/drive/MyDrive/classification_dataset'\n",
        "sub_directories = glob.glob(os.path.join(datapath, \"*\"))\n",
        "print(sub_directories)"
      ],
      "metadata": {
        "colab": {
          "base_uri": "https://localhost:8080/"
        },
        "id": "jWcveC0_ea_C",
        "outputId": "d70c6859-dee9-4a99-e5ce-0e4bc80be376"
      },
      "execution_count": 11,
      "outputs": [
        {
          "output_type": "stream",
          "name": "stdout",
          "text": [
            "[]\n"
          ]
        }
      ]
    },
    {
      "cell_type": "markdown",
      "source": [
        "Load data from each sub-directories using \"DataBlock\" from fastai"
      ],
      "metadata": {
        "id": "7aicvb7dhcYd"
      }
    },
    {
      "cell_type": "code",
      "source": [
        "animals = DataBlock(\n",
        "    blocks = (ImageBlock, CategoryBlock),\n",
        "    get_items = get_image_files,\n",
        "    splitter = RandomSplitter(valid_pct= 0.2, seed=42),\n",
        "    get_y = parent_label,\n",
        "    item_tfms = Resize(128)\n",
        ")\n",
        "\n",
        "dls = animals.dataloader(path)\n",
        "dls.valid.showbatch(max_n=4, n_rows=1)\n"
      ],
      "metadata": {
        "id": "P78MXS5OgvNL"
      },
      "execution_count": null,
      "outputs": []
    },
    {
      "cell_type": "markdown",
      "source": [
        "Resize, crop images"
      ],
      "metadata": {
        "id": "QXNpTPczk8Sv"
      }
    },
    {
      "cell_type": "code",
      "source": [
        "animals = animals.new(item_tfms=Resize(128, ResizeMethod.Squish))\n",
        "dls = animals.dataloaders(path)\n",
        "dls.valid.show_batch(max_n=4, nrows=1)"
      ],
      "metadata": {
        "id": "dsV4H8CEk6Vh"
      },
      "execution_count": null,
      "outputs": []
    },
    {
      "cell_type": "code",
      "source": [
        "animals = animals.new(item_tfms=Resize(128, ResizeMethod.pad, pad_mode=\"zeros\"))\n",
        "dls = animals.dataloaders(path)\n",
        "dls.valid.show_batch(max_n=4, nrows=1)"
      ],
      "metadata": {
        "id": "w3YxkNf6lDSJ"
      },
      "execution_count": null,
      "outputs": []
    },
    {
      "cell_type": "markdown",
      "source": [
        "Image augementation (more radical)"
      ],
      "metadata": {
        "id": "t2Cdaz9ck7XZ"
      }
    },
    {
      "cell_type": "code",
      "source": [
        "animals = animals.new(item_tfms=Resize(128), batch_ftms=aug_transforms(mult=2))\n",
        "dls = dls.dataloaders(path)\n",
        "dls.train.showbatch(max_n= 4, nrows=1, unique=True)"
      ],
      "metadata": {
        "id": "JmZWL5G0lzFq"
      },
      "execution_count": null,
      "outputs": []
    },
    {
      "cell_type": "markdown",
      "source": [
        "## Train Model\n",
        "Make augmented data into dataset"
      ],
      "metadata": {
        "id": "wTVyjlzYn5bz"
      }
    },
    {
      "cell_type": "code",
      "source": [
        "animals = animals.new(\n",
        "    item_tfms=RandomResizedCrop(224, min_scale=0.5),\n",
        "    batch_tfms=aug_transfomrs()\n",
        ")\n",
        "dls = animals.dataloaders(path)"
      ],
      "metadata": {
        "id": "ASC8P2YCn4_9"
      },
      "execution_count": null,
      "outputs": []
    },
    {
      "cell_type": "markdown",
      "source": [
        "Use class learner class to finetune selected model"
      ],
      "metadata": {
        "id": "4fPaBhOWpDj9"
      }
    },
    {
      "cell_type": "code",
      "source": [
        "learn = vision_learner(dls, resnet, metrics=error_rate)\n",
        "learn.fine_tune(4)"
      ],
      "metadata": {
        "id": "k-9ng2HepKQ1"
      },
      "execution_count": null,
      "outputs": []
    },
    {
      "cell_type": "code",
      "source": [
        "! git add .\n",
        "! git commit \"dataload model\""
      ],
      "metadata": {
        "id": "D75xsgK8pkgg"
      },
      "execution_count": null,
      "outputs": []
    }
  ]
}